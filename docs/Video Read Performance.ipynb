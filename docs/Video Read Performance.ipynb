{
 "cells": [
  {
   "cell_type": "code",
   "execution_count": null,
   "id": "b72597e9-c578-4e88-8030-84fc17e9daeb",
   "metadata": {},
   "outputs": [],
   "source": [
    "# %load_ext autoreload\n",
    "# %autoreload 2"
   ]
  },
  {
   "cell_type": "code",
   "execution_count": 1,
   "id": "3f85ef07-d95e-4d72-b092-7b9855f68735",
   "metadata": {},
   "outputs": [
    {
     "data": {
      "text/plain": [
       "('AMD64',\n",
       " '10.0.19044',\n",
       " 'Windows-10-10.0.19044-SP0',\n",
       " uname_result(system='Windows', node='LAPTOP-CVSBCQVV', release='10', version='10.0.19044', machine='AMD64', processor='Intel64 Family 6 Model 140 Stepping 1, GenuineIntel'),\n",
       " 'Windows',\n",
       " 'Intel64 Family 6 Model 140 Stepping 1, GenuineIntel')"
      ]
     },
     "execution_count": 1,
     "metadata": {},
     "output_type": "execute_result"
    }
   ],
   "source": [
    "from platform import *\n",
    "machine(), version(), platform(), uname(), system(), processor()"
   ]
  },
  {
   "cell_type": "code",
   "execution_count": 20,
   "id": "edd07195-315c-4ad8-b60b-5556cc2f989a",
   "metadata": {},
   "outputs": [],
   "source": [
    "from vids import Video, preview, Timer\n",
    "from tqdm import tqdm\n",
    "import numpy as np\n",
    "import dask.array as da\n",
    "from dask import delayed\n",
    "import numpy as np\n",
    "import matplotlib.pyplot as plt\n",
    "import pandas as pd\n",
    "import cv2\n",
    "from time import process_time\n",
    "from os.path import getsize\n",
    "import seaborn as sns"
   ]
  },
  {
   "cell_type": "code",
   "execution_count": 3,
   "id": "f39117d1-aa3f-4692-8cab-cebae37bb475",
   "metadata": {},
   "outputs": [
    {
     "data": {
      "text/plain": [
       "(1080, 1440, 3)"
      ]
     },
     "execution_count": 3,
     "metadata": {},
     "output_type": "execute_result"
    }
   ],
   "source": [
    "\n",
    "vid = Video('jwasp0.avi')\n",
    "frame = vid[9]\n",
    "frame.shape"
   ]
  },
  {
   "cell_type": "markdown",
   "id": "1a1f687c-706a-48d7-be29-22862fab2322",
   "metadata": {},
   "source": [
    "### Does seeking backward take longer than seeking forward?\n",
    "\n"
   ]
  },
  {
   "cell_type": "code",
   "execution_count": 4,
   "id": "bd412582-e873-404f-b3f2-0edb469b93f8",
   "metadata": {},
   "outputs": [
    {
     "name": "stdout",
     "output_type": "stream",
     "text": [
      "{10: 0.0692913}\n",
      "{10: 0.0692913, 30: 0.330012}\n",
      "{10: 0.0692913, 30: 0.330012, 90: 1.2544951}\n",
      "{10: 0.0692913, 30: 0.330012, 90: 1.2544951, 270: 4.1785848}\n",
      "{10: 0.0692913, 30: 0.330012, 90: 1.2544951, 270: 4.1785848, 490: 7.9962463}\n",
      "{10: 0.0692913, 30: 0.330012, 90: 1.2544951, 270: 4.1785848, 490: 7.9962463, 710: 12.0135786}\n",
      "{10: 0.0810665}\n",
      "{10: 0.0810665, 30: 0.39492910000000003}\n",
      "{10: 0.0810665, 30: 0.39492910000000003, 90: 1.4538299000000001}\n",
      "{10: 0.0810665, 30: 0.39492910000000003, 90: 1.4538299000000001, 270: 4.5418506}\n",
      "{10: 0.0810665, 30: 0.39492910000000003, 90: 1.4538299000000001, 270: 4.5418506, 490: 8.3803835}\n",
      "{10: 0.0810665, 30: 0.39492910000000003, 90: 1.4538299000000001, 270: 4.5418506, 490: 8.3803835, 710: 12.384917000000002}\n"
     ]
    },
    {
     "data": {
      "image/png": "[encoded data removed]",
      "text/plain": [
       "<Figure size 432x288 with 1 Axes>"
      ]
     },
     "metadata": {
      "needs_background": "light"
     },
     "output_type": "display_data"
    }
   ],
   "source": [
    "total_frames_to_read = [10, 30, 90, 270, 490, 710]\n",
    "\n",
    "seek_forward_times = {}\n",
    "vid.seek(0)\n",
    "for nframes in total_frames_to_read: \n",
    "    frame_indices = list(range(nframes))\n",
    "    with Timer() as timer:\n",
    "        [vid.seek(idx) for idx in frame_indices]\n",
    "        seek_forward_times[nframes] = timer.read()\n",
    "    print(seek_forward_times)\n",
    "        \n",
    "        \n",
    "seek_backward_times = {}\n",
    "vid.seek(0)\n",
    "for nframes in total_frames_to_read: \n",
    "    frame_indices = list(range(nframes))\n",
    "    with Timer() as timer:\n",
    "        [vid.seek(idx) for idx in frame_indices[::-1]]\n",
    "        seek_backward_times[nframes] = timer.read()\n",
    "    print(seek_backward_times)\n",
    "    \n",
    "    \n",
    "plt.plot(seek_forward_times.keys(), seek_forward_times.values(), 'o:', label='forward')\n",
    "plt.plot(seek_backward_times.keys(), seek_backward_times.values(), 'o:', label='backward')\n",
    "plt.legend();"
   ]
  },
  {
   "cell_type": "markdown",
   "id": "32cfef1a-36dc-4fab-98ef-c5409949c3bc",
   "metadata": {},
   "source": [
    "### Does seeking take up a significant proportion of reading time when only reading a single frame?"
   ]
  },
  {
   "cell_type": "code",
   "execution_count": 5,
   "id": "38f0b5e5-89f3-48a0-b874-1dc271333fc0",
   "metadata": {},
   "outputs": [
    {
     "name": "stdout",
     "output_type": "stream",
     "text": [
      "CPU times: total: 1min 8s\n",
      "Wall time: 17.6 s\n"
     ]
    },
    {
     "data": {
      "text/plain": [
       "<BarContainer object of 5 artists>"
      ]
     },
     "execution_count": 5,
     "metadata": {},
     "output_type": "execute_result"
    },
    {
     "data": {
      "image/png": "[encoded data removed]",
      "text/plain": [
       "<Figure size 432x288 with 1 Axes>"
      ]
     },
     "metadata": {
      "needs_background": "light"
     },
     "output_type": "display_data"
    }
   ],
   "source": [
    "%%time\n",
    "\n",
    "vid = Video('jwasp0.avi')\n",
    "\n",
    "vid.seek(0)\n",
    "with Timer() as read_only_timer:\n",
    "    for idx in range(300):\n",
    "        vid.read()\n",
    "\n",
    "vid.seek(0)\n",
    "with Timer() as seek_and_read_timer:\n",
    "    for idx in range(300):\n",
    "        vid.seek(idx)\n",
    "        vid.read()\n",
    "    \n",
    "vid.seek(0)\n",
    "with Timer() as seek_only_timer:\n",
    "    for idx in range(300):\n",
    "        vid.seek(idx)\n",
    "        \n",
    "\n",
    "vid.seek(0)\n",
    "vals = list(range(300))[::-1]\n",
    "with Timer() as seek_and_read_back_timer:\n",
    "    for idx in vals:\n",
    "        vid.seek(idx)\n",
    "        vid.read()\n",
    "    \n",
    "vid.seek(0)\n",
    "with Timer() as read_only_timer3:\n",
    "    for idx in range(300):\n",
    "        vid.read()    \n",
    "    \n",
    "plt.bar(\n",
    "    ['read', 'seek+read', 'seek', 'seek+read back', 'read3'], \n",
    "    [read_only_timer.measured, seek_and_read_timer.measured, seek_only_timer.measured, seek_and_read_back_timer.measured, read_only_timer3.measured],\n",
    ");"
   ]
  },
  {
   "cell_type": "markdown",
   "id": "fb97507a-c15b-4585-a1b0-6c49800aedcf",
   "metadata": {},
   "source": [
    "Answer:  Yes, Seeking is essentially all the time to read."
   ]
  },
  {
   "cell_type": "markdown",
   "id": "d2dc2fae-db95-461c-9b96-572ca12e12bc",
   "metadata": {},
   "source": [
    "#### Read time Variability: How much is there?\n",
    "\n",
    "How much of the reading variability is simply random, and how much is more related to resource allocation by the computer?"
   ]
  },
  {
   "cell_type": "code",
   "execution_count": 8,
   "id": "eb1bea45-7ffc-46f9-b8f0-b56a8952342b",
   "metadata": {},
   "outputs": [
    {
     "name": "stdout",
     "output_type": "stream",
     "text": [
      "CPU times: total: 23.3 s\n",
      "Wall time: 5.57 s\n"
     ]
    },
    {
     "data": {
      "text/plain": [
       "<matplotlib.legend.Legend at 0x1ff0041af40>"
      ]
     },
     "execution_count": 8,
     "metadata": {},
     "output_type": "execute_result"
    },
    {
     "data": {
      "image/png": "[encoded data removed]",
      "text/plain": [
       "<Figure size 432x288 with 1 Axes>"
      ]
     },
     "metadata": {
      "needs_background": "light"
     },
     "output_type": "display_data"
    }
   ],
   "source": [
    "%%time\n",
    "\n",
    "vid.seek(0)\n",
    "\n",
    "frame_numbers = np.random.randint(0, len(vid), size=300) \n",
    "data = []\n",
    "for frame in frame_numbers:\n",
    "    vid.seek(0)\n",
    "    with Timer() as timer:\n",
    "        time_before_seek = timer.read()\n",
    "        vid.seek(frame)\n",
    "        time_after_seek = timer.read()\n",
    "        vid.read()\n",
    "        time_after_read = timer.read()\n",
    "    seek_time = time_after_seek - time_before_seek\n",
    "    read_time = time_after_read - time_after_seek\n",
    "    data.append({'frame': frame, 'seekTime': seek_time, 'readTime': read_time})\n",
    "    \n",
    "df2 = pd.DataFrame(data).sort_values('frame')\n",
    "plt.plot(df2.frame, df2.readTime, label='read process')\n",
    "plt.plot(df2.frame, df2.seekTime, label='seek process')\n",
    "plt.legend();"
   ]
  },
  {
   "cell_type": "markdown",
   "id": "69e7fe7c-0e8d-41cf-af8e-6de99940f672",
   "metadata": {},
   "source": [
    "Yes, Seeking takes up an incredible amount of time!  As far as I can make out, it is also much more variable than the read time, but there doesn't seem to be a relationship between frame number and seek or read time; one can seek to any point in the video and read in frames at the same rate."
   ]
  },
  {
   "cell_type": "markdown",
   "id": "1076ed7c-bf4f-44bb-b174-2ba1e88ad08d",
   "metadata": {},
   "source": [
    "##### Cumulative effect: seeking many frames"
   ]
  },
  {
   "cell_type": "markdown",
   "id": "5a98d218-1b23-42a2-af1b-8c483fff5ab0",
   "metadata": {},
   "source": []
  },
  {
   "cell_type": "markdown",
   "id": "ed405653-1fc9-453c-bc44-6c62ad1709f3",
   "metadata": {},
   "source": [
    "### Memory allocation vs IO: What's taking up read times\n",
    "\n",
    "Does it make a difference for OpenCV to preallocate arrays in memory and read them as destination?"
   ]
  },
  {
   "cell_type": "markdown",
   "id": "8b612549-c954-4062-b699-7d41ebbd8ee8",
   "metadata": {},
   "source": [
    "###### Single frame case"
   ]
  },
  {
   "cell_type": "code",
   "execution_count": 28,
   "id": "5b499623-b7b9-40db-9b65-ff8fab7a065a",
   "metadata": {},
   "outputs": [
    {
     "data": {
      "image/png": "[encoded data removed]",
      "text/plain": [
       "<Figure size 360x360 with 1 Axes>"
      ]
     },
     "metadata": {
      "needs_background": "light"
     },
     "output_type": "display_data"
    }
   ],
   "source": [
    "def run_benchmark():\n",
    "    cap = cv2.VideoCapture('jwasp0.avi')\n",
    "    ret, frame = cap.read()\n",
    "    times = []\n",
    "\n",
    "    with Timer() as timer:\n",
    "        for _ in range(4000):\n",
    "            if np.random.choice([True, False]):\n",
    "                t0 = perf_counter()\n",
    "                ret, _ = cap.read(frame)\n",
    "                t1 = perf_counter()\n",
    "                c = True\n",
    "            else:\n",
    "                t0 = perf_counter()\n",
    "                ret, frame = cap.read()\n",
    "                t1 = perf_counter()\n",
    "                c = False\n",
    "\n",
    "            times.append({'reuse_memory': c, 'time': t1 - t0})\n",
    "\n",
    "    df = pd.DataFrame(times)\n",
    "    sns.catplot(data=df, x='reuse_memory', y='time', kind='bar')\n",
    "run_benchmark()"
   ]
  },
  {
   "cell_type": "markdown",
   "id": "36faf9f8-86c3-456a-ab7b-50cfd38d438a",
   "metadata": {},
   "source": [
    "###### Multiple frames case"
   ]
  },
  {
   "cell_type": "code",
   "execution_count": 30,
   "id": "bf7c0df6-90de-4424-bff7-dd1d48eb1c68",
   "metadata": {},
   "outputs": [
    {
     "data": {
      "image/png": "[encoded data removed]",
      "text/plain": [
       "<Figure size 360x360 with 1 Axes>"
      ]
     },
     "metadata": {
      "needs_background": "light"
     },
     "output_type": "display_data"
    }
   ],
   "source": [
    "def run_benchmark():\n",
    "    cap = cv2.VideoCapture('jwasp0.avi')\n",
    "    ret, frame = cap.read()\n",
    "    times = []\n",
    "\n",
    "    with Timer() as timer:\n",
    "        for _ in range(15):\n",
    "            if np.random.choice([True, False]):\n",
    "                \n",
    "                # frames = np.empty((100,) + frame.shape, dtype=np.uint8)  # frame shape\n",
    "                cap = cv2.VideoCapture('jwasp0.avi')\n",
    "                t0 = perf_counter()\n",
    "                frames = np.empty((100,) + frame.shape, dtype=np.uint8)  # frame shape\n",
    "                for idx in range(100):\n",
    "                    ret, _ = cap.read(frames[idx])\n",
    "                t1 = perf_counter()\n",
    "                c = True\n",
    "            else:\n",
    "                cap = cv2.VideoCapture('jwasp0.avi')\n",
    "                t0 = perf_counter()\n",
    "                frames = []\n",
    "                for idx in range(100):\n",
    "                    ret, frame = cap.read()\n",
    "                    frames.append(frame)\n",
    "                frames = np.array(frames)\n",
    "                t1 = perf_counter()\n",
    "                c = False\n",
    "\n",
    "            times.append({'reuse_memory': c, 'time': t1 - t0})\n",
    "\n",
    "    df = pd.DataFrame(times)\n",
    "    sns.catplot(data=df, x='reuse_memory', y='time', kind='bar')\n",
    "\n",
    "run_benchmark()"
   ]
  },
  {
   "cell_type": "markdown",
   "id": "9a2ba193-03dc-48c8-bb57-a31b4fc11026",
   "metadata": {},
   "source": [
    "Takeway: yes, it makes a difference."
   ]
  },
  {
   "cell_type": "markdown",
   "id": "fce54617-8d14-4550-91ab-015592cab5bb",
   "metadata": {},
   "source": [
    "### Library comparison\n",
    "\n",
    "Can we get the data faster using a different library?"
   ]
  },
  {
   "cell_type": "code",
   "execution_count": 31,
   "id": "209c1d2d-01d4-4f4c-8284-4f8847ccb67d",
   "metadata": {},
   "outputs": [],
   "source": [
    "import pims"
   ]
  },
  {
   "cell_type": "code",
   "execution_count": 32,
   "id": "b46f273b-bea3-4ffa-ba42-75e2e5a73f79",
   "metadata": {},
   "outputs": [
    {
     "name": "stdout",
     "output_type": "stream",
     "text": [
      "CPU times: total: 15.6 ms\n",
      "Wall time: 55.6 ms\n"
     ]
    },
    {
     "data": {
      "text/plain": [
       "<Frames>\n",
       "Format: MPEG-4 part 2\n",
       "Source: jwasp0.avi\n",
       "Duration: 52.708 seconds\n",
       "Frame rate: 120.000 fps\n",
       "Length: 6325 frames\n",
       "Frame Shape: (1080, 1440, 3)"
      ]
     },
     "execution_count": 32,
     "metadata": {},
     "output_type": "execute_result"
    }
   ],
   "source": [
    "%%time\n",
    "vid = pims.open('jwasp0.avi')\n",
    "vid"
   ]
  },
  {
   "cell_type": "code",
   "execution_count": 36,
   "id": "a8c108c9-c1c0-4cc1-ae0d-07234f10e11b",
   "metadata": {},
   "outputs": [
    {
     "name": "stdout",
     "output_type": "stream",
     "text": [
      "CPU times: total: 0 ns\n",
      "Wall time: 0 ns\n"
     ]
    },
    {
     "data": {
      "text/plain": [
       "Sliced PyAVReaderTimed. Original repr:\n",
       "    <Frames>\n",
       "    Format: MPEG-4 part 2\n",
       "    Source: jwasp0.avi\n",
       "    Duration: 52.708 seconds\n",
       "    Frame rate: 120.000 fps\n",
       "    Length: 6325 frames\n",
       "    Frame Shape: (1080, 1440, 3)\n",
       "    "
      ]
     },
     "execution_count": 36,
     "metadata": {},
     "output_type": "execute_result"
    }
   ],
   "source": [
    "%%time\n",
    "vid[:100]"
   ]
  },
  {
   "cell_type": "code",
   "execution_count": 42,
   "id": "b29dc180-cc14-4823-8b9a-d629dd40aace",
   "metadata": {},
   "outputs": [
    {
     "data": {
      "text/plain": [
       "<matplotlib.legend.Legend at 0x1ff0788dc70>"
      ]
     },
     "execution_count": 42,
     "metadata": {},
     "output_type": "execute_result"
    },
    {
     "data": {
      "image/png": "[encoded data removed]",
      "text/plain": [
       "<Figure size 432x288 with 1 Axes>"
      ]
     },
     "metadata": {
      "needs_background": "light"
     },
     "output_type": "display_data"
    }
   ],
   "source": [
    "pims_read_times = []\n",
    "for rep in range(50):\n",
    "    vid = pims.open('jwasp0.avi')\n",
    "    t0 = perf_counter()\n",
    "    for frame in vid[:120]:\n",
    "        pass\n",
    "    t1 = perf_counter()\n",
    "    pims_read_times.append(t1 - t0)\n",
    "    \n",
    "opencv_read_times = []\n",
    "for rep in range(50):\n",
    "    vid = cv2.VideoCapture('jwasp0.avi')\n",
    "    t0 = perf_counter()\n",
    "    for _ in range(120):\n",
    "        ret, frame = vid.read()\n",
    "    t1 = perf_counter()\n",
    "    opencv_read_times.append(t1 - t0)    \n",
    "    \n",
    "\n",
    "    \n",
    "plt.hist(pims_read_times, label='PIMS Reading 120 Frames', alpha=0.6, bins=15);\n",
    "plt.hist(opencv_read_times, label='OpenCV 120 Frames', alpha=0.6, bins=15);\n",
    "plt.xlim(0, plt.gca().get_xlim()[1])\n",
    "plt.legend()"
   ]
  },
  {
   "cell_type": "code",
   "execution_count": 43,
   "id": "bb30da3c-da26-440c-b2c2-1a417243ad42",
   "metadata": {},
   "outputs": [
    {
     "name": "stderr",
     "output_type": "stream",
     "text": [
      "100%|██████████████████████████████████████████████████████████████████████████████████| 50/50 [00:55<00:00,  1.10s/it]\n",
      "100%|██████████████████████████████████████████████████████████████████████████████████| 50/50 [00:41<00:00,  1.20it/s]\n",
      "100%|██████████████████████████████████████████████████████████████████████████████████| 50/50 [00:41<00:00,  1.20it/s]\n"
     ]
    },
    {
     "data": {
      "text/plain": [
       "<matplotlib.legend.Legend at 0x1ff07185490>"
      ]
     },
     "execution_count": 43,
     "metadata": {},
     "output_type": "execute_result"
    },
    {
     "data": {
      "image/png": "[encoded data removed]",
      "text/plain": [
       "<Figure size 432x288 with 1 Axes>"
      ]
     },
     "metadata": {
      "needs_background": "light"
     },
     "output_type": "display_data"
    }
   ],
   "source": [
    "pims_read_times = []\n",
    "for rep in tqdm(range(50)):\n",
    "    vid = pims.open('jwasp0.avi')\n",
    "    t0 = process_time()\n",
    "    np.mean(vid[:120], axis=0)\n",
    "    t1 = process_time()\n",
    "    pims_read_times.append(t1 - t0)\n",
    "    \n",
    "pims_read_times2 = []\n",
    "for rep in tqdm(range(50)):\n",
    "    vid = pims.open('jwasp0.avi')\n",
    "    t0 = process_time()\n",
    "    for frame in vid[:120]:\n",
    "        np.mean(frame)\n",
    "    t1 = process_time()\n",
    "    pims_read_times2.append(t1 - t0)    \n",
    "    \n",
    "opencv_read_times = []\n",
    "for rep in tqdm(range(50)):\n",
    "    vid = cv2.VideoCapture('jwasp0.avi')\n",
    "    t0 = process_time()\n",
    "    for _ in range(120):\n",
    "        ret, frame = vid.read()\n",
    "        np.mean(frame)\n",
    "    t1 = process_time()\n",
    "    opencv_read_times.append(t1 - t0)    \n",
    "    \n",
    "\n",
    "    \n",
    "plt.hist(pims_read_times, label='PIMS 120 Frames (Vectorized): Calc Mean', alpha=0.6, bins=15);\n",
    "plt.hist(pims_read_times2, label='PIMS 120 Frames (Loop): Calc Mean', alpha=0.6, bins=15);\n",
    "plt.hist(opencv_read_times, label='OpenCV 120 Frames: Calc Mean', alpha=0.6, bins=15);\n",
    "plt.xlim(0, plt.gca().get_xlim()[1])\n",
    "plt.legend()"
   ]
  },
  {
   "cell_type": "code",
   "execution_count": 44,
   "id": "01d0e281-4e79-49fd-b102-b3022fce2942",
   "metadata": {},
   "outputs": [
    {
     "name": "stdout",
     "output_type": "stream",
     "text": [
      "<Frames>\n",
      "Format: MPEG-4 part 2\n",
      "Source: jwasp0.avi\n",
      "Duration: 52.708 seconds\n",
      "Frame rate: 120.000 fps\n",
      "Length: 6325 frames\n",
      "Frame Shape: (1080, 1440, 3)\n",
      "\n",
      " 123.68 MB\n",
      "\n",
      "\n",
      "<Frames>\n",
      "Format: H.264 / AVC / MPEG-4 AVC / MPEG-4 part 10\n",
      "Source: jwasp0b.avi\n",
      "Duration: 52.708 seconds\n",
      "Frame rate: 120.000 fps\n",
      "Length: 6325 frames\n",
      "Frame Shape: (1080, 1440, 3)\n",
      "\n",
      " 1.48 MB\n",
      "\n",
      "\n"
     ]
    }
   ],
   "source": [
    "print(pims.open('jwasp0.avi'))\n",
    "print(f\"{getsize('jwasp0.avi') / 1024 ** 2 : .2f} MB\", end=\"\\n\\n\\n\")\n",
    "\n",
    "print(pims.open('jwasp0b.avi'))\n",
    "print(f\"{getsize('jwasp0b.avi') / 1024 ** 2 : .2f} MB\", end=\"\\n\\n\\n\")"
   ]
  },
  {
   "cell_type": "code",
   "execution_count": 49,
   "id": "47426c94-ab62-48e4-9d20-f2d8f40a3cfc",
   "metadata": {},
   "outputs": [
    {
     "name": "stdout",
     "output_type": "stream",
     "text": [
      "CPU times: total: 4min 50s\n",
      "Wall time: 4min 50s\n"
     ]
    },
    {
     "data": {
      "text/plain": [
       "<matplotlib.legend.Legend at 0x1ff1907a7c0>"
      ]
     },
     "execution_count": 49,
     "metadata": {},
     "output_type": "execute_result"
    },
    {
     "data": {
      "image/png": "[encoded data removed]",
      "text/plain": [
       "<Figure size 432x288 with 1 Axes>"
      ]
     },
     "metadata": {
      "needs_background": "light"
     },
     "output_type": "display_data"
    }
   ],
   "source": [
    "%%time\n",
    "\n",
    "pims_read_times = []\n",
    "for rep in range(50):\n",
    "    vid = pims.open('jwasp0.avi')\n",
    "    t0 = perf_counter()\n",
    "    for frame in vid[:120]:\n",
    "        pass\n",
    "    t1 = perf_counter()\n",
    "    pims_read_times.append(t1 - t0)\n",
    "    \n",
    "pims_read_times2 = []\n",
    "for rep in range(50):\n",
    "    vid = pims.open('jwasp0b.avi')\n",
    "    t0 = perf_counter()\n",
    "    for frame in vid[:120]:\n",
    "        pass\n",
    "    t1 = perf_counter()\n",
    "    pims_read_times2.append(t1 - t0)    \n",
    "    \n",
    "plt.hist(pims_read_times, label='PIMS 120 Frames JWASP0', alpha=0.6, bins=15);\n",
    "plt.hist(pims_read_times2, label='PIMS 120 Frames JWASP0b', alpha=0.6, bins=15);\n",
    "plt.xlim(0, plt.gca().get_xlim()[1])\n",
    "plt.legend()    "
   ]
  },
  {
   "cell_type": "markdown",
   "id": "f8be3ad3-87e9-4c2c-9865-38867be1a583",
   "metadata": {},
   "source": [
    "This is a massive difference in read time between the two formats:\n",
    "    - **0.25** seconds for 120 frames for the **MPEG-4 part 2 AVI** File\n",
    "    - **3.25** seconds for 120 frames for the **H.264 AVI** File"
   ]
  },
  {
   "cell_type": "code",
   "execution_count": 50,
   "id": "8fb20ff0-ea5e-48ba-a013-9fadc59cbd3d",
   "metadata": {},
   "outputs": [
    {
     "name": "stdout",
     "output_type": "stream",
     "text": [
      "CPU times: total: 56.8 s\n",
      "Wall time: 38.6 s\n"
     ]
    },
    {
     "data": {
      "text/plain": [
       "<matplotlib.legend.Legend at 0x1ff1e7a5e80>"
      ]
     },
     "execution_count": 50,
     "metadata": {},
     "output_type": "execute_result"
    },
    {
     "data": {
      "image/png": "[encoded data removed]",
      "text/plain": [
       "<Figure size 432x288 with 1 Axes>"
      ]
     },
     "metadata": {
      "needs_background": "light"
     },
     "output_type": "display_data"
    }
   ],
   "source": [
    "%%time\n",
    "\n",
    "opencv_read_times = []\n",
    "for rep in range(50):\n",
    "    vid = cv2.VideoCapture('jwasp0.avi')\n",
    "    t0 = perf_counter()\n",
    "    for _ in range(120):\n",
    "        ret, frame = vid.read()\n",
    "    t1 = perf_counter()\n",
    "    opencv_read_times.append(t1 - t0)   \n",
    "    \n",
    "opencv_read_times2 = []\n",
    "for rep in range(50):\n",
    "    vid = cv2.VideoCapture('jwasp0b.avi')\n",
    "    t0 = perf_counter()\n",
    "    for _ in range(120):\n",
    "        ret, frame = vid.read()\n",
    "    t1 = perf_counter()\n",
    "    opencv_read_times2.append(t1 - t0)     \n",
    "    \n",
    "plt.hist(opencv_read_times, label='OpenCV 120 Frames JWASP0', alpha=0.6, bins=15);\n",
    "plt.hist(opencv_read_times2, label='OpenCV 120 Frames JWASP0b', alpha=0.6, bins=15);\n",
    "plt.xlim(0, plt.gca().get_xlim()[1])\n",
    "plt.legend()    "
   ]
  },
  {
   "cell_type": "markdown",
   "id": "76a5b044-619a-486c-ac38-c6a0076fad9a",
   "metadata": {},
   "source": [
    "OpenCV, on the other hand, isn't having any difference between the two file formats.  It is slower than the best case,\n",
    "but much, much faster than the worst case for PIMS with x264"
   ]
  },
  {
   "cell_type": "code",
   "execution_count": 51,
   "id": "477fc639-34d0-407f-aa54-680ffbf08168",
   "metadata": {},
   "outputs": [
    {
     "data": {
      "text/plain": [
       "'For a 4.4MB frame, 2GB of Memory can hold roughly 460 Frames ( 3.8 secs for 120 fps ).'"
      ]
     },
     "execution_count": 51,
     "metadata": {},
     "output_type": "execute_result"
    }
   ],
   "source": [
    "frame_mb = np.empty_like(frame).nbytes / 1024 ** 2\n",
    "f\"For a {frame_mb:.1f}MB frame, 2GB of Memory can hold roughly {2048 / frame_mb:.0f} Frames ({2048 / frame_mb / 120: .2} secs for 120 fps ).\""
   ]
  },
  {
   "cell_type": "markdown",
   "id": "74faccad-bace-4eb1-b2ff-ee854605fbb1",
   "metadata": {},
   "source": [
    "### Processing Time for common operations"
   ]
  },
  {
   "cell_type": "code",
   "execution_count": 52,
   "id": "0544a90d-a418-42d3-b7da-404dde500aab",
   "metadata": {},
   "outputs": [
    {
     "name": "stdout",
     "output_type": "stream",
     "text": [
      "read on 120 frames...\n",
      "239 ms ± 8.66 ms per loop (mean ± std. dev. of 7 runs, 1 loop each)\n",
      "\n",
      "mean on 120 frames...\n",
      "421 ms ± 12.5 ms per loop (mean ± std. dev. of 7 runs, 1 loop each)\n",
      "\n",
      "median on 120 frames...\n",
      "789 ms ± 8.99 ms per loop (mean ± std. dev. of 7 runs, 1 loop each)\n",
      "\n",
      "amax on 120 frames...\n",
      "506 ms ± 8.69 ms per loop (mean ± std. dev. of 7 runs, 1 loop each)\n",
      "\n",
      "amin on 120 frames...\n",
      "388 ms ± 7.18 ms per loop (mean ± std. dev. of 7 runs, 1 loop each)\n",
      "\n",
      "std on 120 frames...\n",
      "2.89 s ± 40.6 ms per loop (mean ± std. dev. of 7 runs, 1 loop each)\n",
      "\n",
      "CPU times: total: 43.3 s\n",
      "Wall time: 42 s\n"
     ]
    }
   ],
   "source": [
    "%%time\n",
    "\n",
    "vid = cv2.VideoCapture('jwasp0b.avi')\n",
    "_, frame = vid.read()\n",
    "\n",
    "# %timeit np.mean(frame)\n",
    "functions = [vid.read, np.mean, np.median, np.max, np.min, np.std,]\n",
    "\n",
    "for fun in functions:\n",
    "    print(fun.__name__, 'on 120 frames...')\n",
    "    %timeit x = [fun(frame) for rep in range(120)]\n",
    "    print('')\n",
    "    \n",
    "\n"
   ]
  },
  {
   "cell_type": "code",
   "execution_count": null,
   "id": "5e2c8155-b0b7-45dc-9dbe-980a1d74797f",
   "metadata": {},
   "outputs": [],
   "source": []
  }
 ],
 "metadata": {
  "kernelspec": {
   "display_name": "wasproi2",
   "language": "python",
   "name": "wasproi2"
  },
  "language_info": {
   "codemirror_mode": {
    "name": "ipython",
    "version": 3
   },
   "file_extension": ".py",
   "mimetype": "text/x-python",
   "name": "python",
   "nbconvert_exporter": "python",
   "pygments_lexer": "ipython3",
   "version": "3.8.13"
  }
 },
 "nbformat": 4,
 "nbformat_minor": 5
}
