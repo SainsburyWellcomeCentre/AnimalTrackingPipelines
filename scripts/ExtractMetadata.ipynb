{
 "cells": [
  {
   "cell_type": "code",
   "execution_count": 2,
   "id": "a39b6e9e-05ef-40f9-a650-cb5e042ae58d",
   "metadata": {},
   "outputs": [
    {
     "name": "stdout",
     "output_type": "stream",
     "text": [
      "NINJAV_S001_S001_T003.MOV\n"
     ]
    }
   ],
   "source": [
    "!ls /data/raw"
   ]
  },
  {
   "cell_type": "code",
   "execution_count": 132,
   "id": "5ab23692-9f6f-4509-8616-5df629ffbf56",
   "metadata": {},
   "outputs": [],
   "source": [
    "import re\n",
    "import os\n",
    "from os import path\n",
    "from pathlib import Path\n",
    "import hachoir\n",
    "from datetime import timedelta, datetime, time\n",
    "from pydantic import BaseModel, Field"
   ]
  },
  {
   "cell_type": "code",
   "execution_count": 133,
   "id": "a60ce724-7a6b-485c-b9ae-1f42e88c86c6",
   "metadata": {},
   "outputs": [],
   "source": [
    "vidfile = \"/data/raw/NINJAV_S001_S001_T003.MOV\"\n",
    "assert path.exists(vidfile)"
   ]
  },
  {
   "cell_type": "code",
   "execution_count": 118,
   "id": "a4ba188f-f126-4b3e-9da9-c7cef319166e",
   "metadata": {},
   "outputs": [
    {
     "data": {
      "text/plain": [
       "RawVideoMetaData(path=PosixPath('/data/raw/NINJAV_S001_S001_T003.MOV'), duration=datetime.timedelta(seconds=3225, microseconds=760000), created_on=datetime.datetime(2024, 6, 18, 6, 13, 24), width=1920, height=20)"
      ]
     },
     "execution_count": 118,
     "metadata": {},
     "output_type": "execute_result"
    }
   ],
   "source": [
    "from hachoir.parser import createParser\n",
    "from hachoir.metadata import extractMetadata\n",
    "\n",
    "\n",
    "class RawVideoMetaData(BaseModel):\n",
    "    path: Path\n",
    "    duration: timedelta\n",
    "    created_on: datetime\n",
    "    width: int\n",
    "    height: int\n",
    "\n",
    "def parse_metadata(fname) -> RawVideoMetaData:\n",
    "    parser = createParser(fname)\n",
    "    with parser:\n",
    "        metadata = extractMetadata(parser).exportDictionary()['Metadata']\n",
    "    metadata\n",
    "    \n",
    "    aa = re.search(\"(\\d+) min (\\d+) sec (\\d+) ms\", metadata['Duration'])\n",
    "    minutes, secs, msecs = aa.groups()\n",
    "    duration = timedelta(minutes=int(minutes), seconds=int(secs), milliseconds=int(msecs))\n",
    "\n",
    "    created_on = datetime.fromisoformat('2024-06-18 06:13:24')\n",
    "\n",
    "    width = re.match(\"(\\d+) pixels\", metadata['Image width']).groups()[0]\n",
    "    width = int(width)\n",
    "\n",
    "    height = re.match(\"(\\d+) pixels\", metadata['Image height']).groups()[0]\n",
    "    height = int(height)\n",
    "    \n",
    "    return RawVideoMetaData(\n",
    "        path=Path(fname),\n",
    "        duration = duration,\n",
    "        created_on = created_on,\n",
    "        width=width,\n",
    "        height=height\n",
    "    )\n",
    "\n",
    "metadata = parse_metadata(fname=vidfile)\n",
    "metadata"
   ]
  },
  {
   "cell_type": "code",
   "execution_count": 125,
   "id": "52b21f92-9dfb-4ed5-bb73-5a5b0f06c0d1",
   "metadata": {},
   "outputs": [
    {
     "data": {
      "text/plain": [
       "'{\"path\": \"/data/raw/NINJAV_S001_S001_T003.MOV\", \"duration\": 3225.76, \"created_on\": \"2024-06-18T06:13:24\", \"width\": 1920, \"height\": 20}'"
      ]
     },
     "execution_count": 125,
     "metadata": {},
     "output_type": "execute_result"
    }
   ],
   "source": [
    "\n",
    "assert RawVideoMetaData.parse_raw(metadata.json()) == metadata\n",
    "metadata.json()"
   ]
  },
  {
   "cell_type": "code",
   "execution_count": 131,
   "id": "9c455513-17b9-43e3-8bda-2618ffc72574",
   "metadata": {},
   "outputs": [
    {
     "data": {
      "text/plain": [
       "134"
      ]
     },
     "execution_count": 131,
     "metadata": {},
     "output_type": "execute_result"
    }
   ],
   "source": [
    "save_path = Path(\".\") / Path(vidfile).with_suffix('.json').name\n",
    "save_path.write_text(metadata.json())"
   ]
  }
 ],
 "metadata": {
  "kernelspec": {
   "display_name": "Python 3 (ipykernel)",
   "language": "python",
   "name": "python3"
  },
  "language_info": {
   "codemirror_mode": {
    "name": "ipython",
    "version": 3
   },
   "file_extension": ".py",
   "mimetype": "text/x-python",
   "name": "python",
   "nbconvert_exporter": "python",
   "pygments_lexer": "ipython3",
   "version": "3.8.12"
  }
 },
 "nbformat": 4,
 "nbformat_minor": 5
}
