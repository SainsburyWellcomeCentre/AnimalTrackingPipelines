{
 "cells": [
  {
   "cell_type": "code",
   "execution_count": null,
   "id": "ec4c636d",
   "metadata": {
    "tags": [
     "snakemake-job-properties"
    ]
   },
   "outputs": [],
   "source": [
    "\n",
    "######## snakemake preamble start (automatically inserted, do not edit) ########\n",
    "import sys; sys.path.extend(['/usr/local/envs/snakemake/lib/python3.8/site-packages', '/nfs/nhome/live/ngrosso/projects/crab_pipeline/notebooks']); import pickle; snakemake = pickle.loads(b'\\x80\\x04\\x95\\x9e\\x04\\x00\\x00\\x00\\x00\\x00\\x00\\x8c\\x10snakemake.script\\x94\\x8c\\tSnakemake\\x94\\x93\\x94)\\x81\\x94}\\x94(\\x8c\\x05input\\x94\\x8c\\x0csnakemake.io\\x94\\x8c\\nInputFiles\\x94\\x93\\x94)\\x81\\x94\\x8c8/data/raw/ramalhete_Sep21/cam1/NINJAV_S001_S001_T001.MOV\\x94a}\\x94(\\x8c\\x06_names\\x94}\\x94\\x8c\\x12_allowed_overrides\\x94]\\x94(\\x8c\\x05index\\x94\\x8c\\x04sort\\x94eh\\x10\\x8c\\tfunctools\\x94\\x8c\\x07partial\\x94\\x93\\x94h\\x06\\x8c\\x19Namedlist._used_attribute\\x94\\x93\\x94\\x85\\x94R\\x94(h\\x16)}\\x94\\x8c\\x05_name\\x94h\\x10sNt\\x94bh\\x11h\\x14h\\x16\\x85\\x94R\\x94(h\\x16)}\\x94h\\x1ah\\x11sNt\\x94bub\\x8c\\x06output\\x94h\\x06\\x8c\\x0bOutputFiles\\x94\\x93\\x94)\\x81\\x94\\x8cDdata/processed2/ramalhete_Sep21_cam-1_mov-NINJAV_S001_S001_T001.json\\x94a}\\x94(h\\x0c}\\x94h\\x0e]\\x94(h\\x10h\\x11eh\\x10h\\x14h\\x16\\x85\\x94R\\x94(h\\x16)}\\x94h\\x1ah\\x10sNt\\x94bh\\x11h\\x14h\\x16\\x85\\x94R\\x94(h\\x16)}\\x94h\\x1ah\\x11sNt\\x94bub\\x8c\\x06params\\x94h\\x06\\x8c\\x06Params\\x94\\x93\\x94)\\x81\\x94}\\x94(h\\x0c}\\x94h\\x0e]\\x94(h\\x10h\\x11eh\\x10h\\x14h\\x16\\x85\\x94R\\x94(h\\x16)}\\x94h\\x1ah\\x10sNt\\x94bh\\x11h\\x14h\\x16\\x85\\x94R\\x94(h\\x16)}\\x94h\\x1ah\\x11sNt\\x94bub\\x8c\\twildcards\\x94h\\x06\\x8c\\tWildcards\\x94\\x93\\x94)\\x81\\x94(\\x8c\\x0framalhete_Sep21\\x94\\x8c\\x011\\x94\\x8c\\x15NINJAV_S001_S001_T001\\x94e}\\x94(h\\x0c}\\x94(\\x8c\\x07session\\x94K\\x00N\\x86\\x94\\x8c\\x06camera\\x94K\\x01N\\x86\\x94\\x8c\\x06rawmov\\x94K\\x02N\\x86\\x94uh\\x0e]\\x94(h\\x10h\\x11eh\\x10h\\x14h\\x16\\x85\\x94R\\x94(h\\x16)}\\x94h\\x1ah\\x10sNt\\x94bh\\x11h\\x14h\\x16\\x85\\x94R\\x94(h\\x16)}\\x94h\\x1ah\\x11sNt\\x94b\\x8c\\x07session\\x94hChJhDhLhEub\\x8c\\x07threads\\x94K\\x01\\x8c\\tresources\\x94h\\x06\\x8c\\tResources\\x94\\x93\\x94)\\x81\\x94(K\\x01K\\x01\\x8c\\x04/tmp\\x94e}\\x94(h\\x0c}\\x94(\\x8c\\x06_cores\\x94K\\x00N\\x86\\x94\\x8c\\x06_nodes\\x94K\\x01N\\x86\\x94\\x8c\\x06tmpdir\\x94K\\x02N\\x86\\x94uh\\x0e]\\x94(h\\x10h\\x11eh\\x10h\\x14h\\x16\\x85\\x94R\\x94(h\\x16)}\\x94h\\x1ah\\x10sNt\\x94bh\\x11h\\x14h\\x16\\x85\\x94R\\x94(h\\x16)}\\x94h\\x1ah\\x11sNt\\x94bh`K\\x01hbK\\x01hdh]ub\\x8c\\x03log\\x94h\\x06\\x8c\\x03Log\\x94\\x93\\x94)\\x81\\x94}\\x94(h\\x0c}\\x94h\\x0e]\\x94(h\\x10h\\x11eh\\x10h\\x14h\\x16\\x85\\x94R\\x94(h\\x16)}\\x94h\\x1ah\\x10sNt\\x94bh\\x11h\\x14h\\x16\\x85\\x94R\\x94(h\\x16)}\\x94h\\x1ah\\x11sNt\\x94bub\\x8c\\x06config\\x94}\\x94\\x8c\\x04rule\\x94\\x8c\\x11extract_metadata2\\x94\\x8c\\x0fbench_iteration\\x94N\\x8c\\tscriptdir\\x94\\x8c8/nfs/nhome/live/ngrosso/projects/crab_pipeline/notebooks\\x94ub.'); from snakemake.logging import logger; logger.printshellcmds = False; import os; os.chdir(r'/nfs/nhome/live/ngrosso/projects/crab_pipeline');\n",
    "######## snakemake preamble end #########\n"
   ]
  },
  {
   "cell_type": "code",
   "execution_count": null,
   "id": "ceaa2268",
   "metadata": {},
   "outputs": [],
   "source": [
    "# start coding here"
   ]
  }
 ],
 "metadata": {
  "language_info": {
   "name": "python"
  }
 },
 "nbformat": 4,
 "nbformat_minor": 5
}