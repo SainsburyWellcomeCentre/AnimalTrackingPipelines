{
 "cells": [
  {
   "cell_type": "markdown",
   "id": "0994e1c1-ab55-4085-902a-d97f14aa8a14",
   "metadata": {},
   "source": [
    "### Show Video Files"
   ]
  },
  {
   "cell_type": "code",
   "execution_count": 1,
   "id": "696067ad-650c-448a-959c-5f1cd1ffa8ef",
   "metadata": {},
   "outputs": [
    {
     "name": "stdout",
     "output_type": "stream",
     "text": [
      "total 67G\n",
      "-rwxrwxrwx 1 root root 67G Jun 18  2024 NINJAV_S001_S001_T003.MOV\n"
     ]
    }
   ],
   "source": [
    "!ls -lh /data/raw"
   ]
  },
  {
   "cell_type": "code",
   "execution_count": 9,
   "id": "bb8f4c9d-8dbc-498d-b7d9-50b1dc44ca4f",
   "metadata": {},
   "outputs": [],
   "source": [
    "vidfile = \"/data/raw/NINJAV_S001_S001_T003.MOV\""
   ]
  },
  {
   "cell_type": "markdown",
   "id": "d3afe082-befa-46c1-8908-171d2e1c8798",
   "metadata": {},
   "source": [
    "## Get some info from the file"
   ]
  },
  {
   "cell_type": "markdown",
   "id": "79de4cb4-1dfd-4ed9-b3bb-65619424fd8b",
   "metadata": {},
   "source": [
    "### With OpenCV\n",
    "\n",
    "https://www.geeksforgeeks.org/how-to-get-properties-of-python-cv2-videocapture-object/"
   ]
  },
  {
   "cell_type": "code",
   "execution_count": 10,
   "id": "ed387643-3589-4d6a-9804-b907ef9ac6a1",
   "metadata": {},
   "outputs": [
    {
     "name": "stdout",
     "output_type": "stream",
     "text": [
      "CV_CAP_PROP_FRAME_WIDTH: '1920.0'\n",
      "CV_CAP_PROP_FRAME_HEIGHT : '1080.0'\n",
      "CAP_PROP_FPS : '25.0'\n",
      "CAP_PROP_POS_MSEC : '0.0'\n",
      "CAP_PROP_FRAME_COUNT  : '80644.0'\n",
      "CAP_PROP_BRIGHTNESS : '0.0'\n",
      "CAP_PROP_CONTRAST : '0.0'\n",
      "CAP_PROP_SATURATION : '0.0'\n",
      "CAP_PROP_HUE : '0.0'\n",
      "CAP_PROP_GAIN  : '0.0'\n",
      "CAP_PROP_CONVERT_RGB : '0.0'\n"
     ]
    }
   ],
   "source": [
    "import cv2\n",
    "  \n",
    "#For Video File\n",
    "capture=cv2.VideoCapture(vidfile)\n",
    "  \n",
    "#For webcam\n",
    "# capture=cv2.VideoCapture(0)\n",
    "  \n",
    "# showing values of the properties\n",
    "print(\"CV_CAP_PROP_FRAME_WIDTH: '{}'\".format(capture.get(cv2.CAP_PROP_FRAME_WIDTH)))\n",
    "print(\"CV_CAP_PROP_FRAME_HEIGHT : '{}'\".format(capture.get(cv2.CAP_PROP_FRAME_HEIGHT)))\n",
    "print(\"CAP_PROP_FPS : '{}'\".format(capture.get(cv2.CAP_PROP_FPS)))\n",
    "print(\"CAP_PROP_POS_MSEC : '{}'\".format(capture.get(cv2.CAP_PROP_POS_MSEC)))\n",
    "print(\"CAP_PROP_FRAME_COUNT  : '{}'\".format(capture.get(cv2.CAP_PROP_FRAME_COUNT)))\n",
    "print(\"CAP_PROP_BRIGHTNESS : '{}'\".format(capture.get(cv2.CAP_PROP_BRIGHTNESS)))\n",
    "print(\"CAP_PROP_CONTRAST : '{}'\".format(capture.get(cv2.CAP_PROP_CONTRAST)))\n",
    "print(\"CAP_PROP_SATURATION : '{}'\".format(capture.get(cv2.CAP_PROP_SATURATION)))\n",
    "print(\"CAP_PROP_HUE : '{}'\".format(capture.get(cv2.CAP_PROP_HUE)))\n",
    "print(\"CAP_PROP_GAIN  : '{}'\".format(capture.get(cv2.CAP_PROP_GAIN)))\n",
    "print(\"CAP_PROP_CONVERT_RGB : '{}'\".format(capture.get(cv2.CAP_PROP_CONVERT_RGB)))\n",
    "  \n",
    "# release window\n",
    "capture.release()"
   ]
  },
  {
   "cell_type": "markdown",
   "id": "6d18da97-5425-427b-9838-18ea6957d1ab",
   "metadata": {},
   "source": [
    "### With Exifread\n",
    "\n",
    "https://stackoverflow.com/questions/19804768/interpreting-gps-info-of-exif-data-from-photo-in-python"
   ]
  },
  {
   "cell_type": "code",
   "execution_count": 7,
   "id": "b60d4922-db89-48b0-9c53-cefe9e783348",
   "metadata": {},
   "outputs": [
    {
     "name": "stdout",
     "output_type": "stream",
     "text": [
      "Collecting exifread\n",
      "  Downloading ExifRead-2.3.2-py3-none-any.whl (38 kB)\n",
      "Installing collected packages: exifread\n",
      "Successfully installed exifread-2.3.2\n"
     ]
    }
   ],
   "source": [
    "!pip install exifread"
   ]
  },
  {
   "cell_type": "code",
   "execution_count": 11,
   "id": "f4e5f628-432c-4a1d-b4ae-e9a5c525d48e",
   "metadata": {},
   "outputs": [],
   "source": [
    "import exifread"
   ]
  },
  {
   "cell_type": "code",
   "execution_count": 13,
   "id": "3ed07db1-7882-4437-87e3-ba3de7ef773f",
   "metadata": {},
   "outputs": [
    {
     "data": {
      "text/plain": [
       "{}"
      ]
     },
     "execution_count": 13,
     "metadata": {},
     "output_type": "execute_result"
    }
   ],
   "source": [
    "with open(vidfile, 'rb') as f:\n",
    "    tags = exifread.process_file(f)\n",
    "    \n",
    "tags    "
   ]
  },
  {
   "cell_type": "markdown",
   "id": "e6467a1b-fce2-4e75-9a6f-e6462a1607f1",
   "metadata": {},
   "source": [
    "### With Exiftool\n",
    "\n",
    "https://stackoverflow.com/a/54683292"
   ]
  },
  {
   "cell_type": "code",
   "execution_count": 31,
   "id": "9742d392-589d-4523-9151-c36fbb5f534b",
   "metadata": {},
   "outputs": [
    {
     "name": "stdout",
     "output_type": "stream",
     "text": [
      "/bin/bash: line 1: exiftool: command not found\n"
     ]
    }
   ],
   "source": [
    "!exiftool"
   ]
  },
  {
   "cell_type": "markdown",
   "id": "3ca1e545-b3cf-4425-afb2-726b7e829ba2",
   "metadata": {},
   "source": [
    "Needs installing (or copying, with perl to be installed): https://exiftool.org/install.html\n",
    "\n",
    "Python wrapper also available: https://pypi.org/project/PyExifTool/"
   ]
  },
  {
   "cell_type": "markdown",
   "id": "ba6556a9-41bd-4607-97c6-dfdc70d93f3d",
   "metadata": {},
   "source": [
    "### With hachoir\n",
    "\n",
    "https://stackoverflow.com/a/61738802"
   ]
  },
  {
   "cell_type": "code",
   "execution_count": 14,
   "id": "2f7bf947-cbf7-462b-a432-61f68b90d50e",
   "metadata": {},
   "outputs": [
    {
     "name": "stdout",
     "output_type": "stream",
     "text": [
      "Collecting hachoir\n",
      "  Downloading hachoir-3.1.2-py3-none-any.whl (640 kB)\n",
      "     |████████████████████████████████| 640 kB 3.3 MB/s            \n",
      "\u001b[?25hInstalling collected packages: hachoir\n",
      "Successfully installed hachoir-3.1.2\n"
     ]
    }
   ],
   "source": [
    "!pip install hachoir"
   ]
  },
  {
   "cell_type": "code",
   "execution_count": 15,
   "id": "5484d62a-7ff5-4946-8987-7453d6a0ac72",
   "metadata": {},
   "outputs": [
    {
     "name": "stdout",
     "output_type": "stream",
     "text": [
      "Metadata:\n",
      "- Duration: 53 min 45 sec 760 ms\n",
      "- Image width: 1920 pixels\n",
      "- Image height: 1080 pixels\n",
      "- Image height: 20 pixels\n",
      "- Creation date: 2024-06-18 06:13:24\n",
      "- Last modification: 2024-06-18 06:13:24\n",
      "- Comment: Play speed: 100.0%\n",
      "- Comment: User volume: 100.0%\n",
      "- MIME type: video/quicktime\n",
      "- Endianness: Big endian\n"
     ]
    }
   ],
   "source": [
    "!hachoir-metadata {vidfile}"
   ]
  },
  {
   "cell_type": "markdown",
   "id": "13a7dc46-cc01-4b5d-9efb-de43e0306c99",
   "metadata": {},
   "source": [
    "Hachoir python https://hachoir.readthedocs.io/en/latest/developer.html"
   ]
  },
  {
   "cell_type": "code",
   "execution_count": 21,
   "id": "bd2016a7-d622-4a70-8ab3-36711b759bae",
   "metadata": {},
   "outputs": [
    {
     "data": {
      "text/plain": [
       "<hachoir.metadata.video.MP4Metadata at 0x7f6cfb09e040>"
      ]
     },
     "execution_count": 21,
     "metadata": {},
     "output_type": "execute_result"
    }
   ],
   "source": [
    "from hachoir.parser import createParser\n",
    "from hachoir.metadata import extractMetadata\n",
    "\n",
    "parser = createParser(vidfile)\n",
    "with parser:\n",
    "    metadata = extractMetadata(parser)\n",
    "metadata"
   ]
  },
  {
   "cell_type": "code",
   "execution_count": 22,
   "id": "39397f83-6fca-42f2-b7de-c62955df4e28",
   "metadata": {},
   "outputs": [
    {
     "data": {
      "text/plain": [
       "{'Metadata': {'Duration': '53 min 45 sec 760 ms',\n",
       "  'Image width': '1920 pixels',\n",
       "  'Image height': '20 pixels',\n",
       "  'Creation date': '2024-06-18 06:13:24',\n",
       "  'Last modification': '2024-06-18 06:13:24',\n",
       "  'Comment': 'User volume: 100.0%',\n",
       "  'MIME type': 'video/quicktime',\n",
       "  'Endianness': 'Big endian'}}"
      ]
     },
     "execution_count": 22,
     "metadata": {},
     "output_type": "execute_result"
    }
   ],
   "source": [
    "metadata.exportDictionary()"
   ]
  },
  {
   "cell_type": "markdown",
   "id": "f1629dcd-1cd7-4dcf-8660-6f028302544c",
   "metadata": {},
   "source": [
    "### With PyMediaInfo\n",
    "https://stackoverflow.com/a/61444310"
   ]
  },
  {
   "cell_type": "code",
   "execution_count": 30,
   "id": "a42ec1a8-dce1-4340-b7f6-918d91be70f4",
   "metadata": {},
   "outputs": [
    {
     "name": "stdout",
     "output_type": "stream",
     "text": [
      "/bin/bash: line 1: sudo: command not found\n"
     ]
    }
   ],
   "source": [
    "!apt-get install pymediainfo  # needs sudo permissions, should be installed in build step"
   ]
  },
  {
   "cell_type": "code",
   "execution_count": 25,
   "id": "b5756b10-acf4-4570-bdd8-1eec05fc48e9",
   "metadata": {},
   "outputs": [
    {
     "name": "stdout",
     "output_type": "stream",
     "text": [
      "Collecting pymediainfo\n",
      "  Downloading pymediainfo-5.1.0.tar.gz (445 kB)\n",
      "     |████████████████████████████████| 445 kB 743 kB/s            \n",
      "\u001b[?25h  Preparing metadata (setup.py) ... \u001b[?25ldone\n",
      "\u001b[?25hUsing legacy 'setup.py install' for pymediainfo, since package 'wheel' is not installed.\n",
      "Installing collected packages: pymediainfo\n",
      "    Running setup.py install for pymediainfo ... \u001b[?25ldone\n",
      "\u001b[?25hSuccessfully installed pymediainfo-5.1.0\n",
      "Note: you may need to restart the kernel to use updated packages.\n"
     ]
    }
   ],
   "source": [
    "!pip install pymediainfo"
   ]
  },
  {
   "cell_type": "code",
   "execution_count": 26,
   "id": "22d69f47-db5a-4de0-9b03-856279963d37",
   "metadata": {},
   "outputs": [],
   "source": [
    "import pymediainfo"
   ]
  },
  {
   "cell_type": "code",
   "execution_count": 28,
   "id": "df07a235-8f4a-4fb0-9cf4-0037b2c684b2",
   "metadata": {},
   "outputs": [
    {
     "ename": "OSError",
     "evalue": "Failed to load library from libmediainfo.so.0 - libmediainfo.so.0: cannot open shared object file: No such file or directory",
     "output_type": "error",
     "traceback": [
      "\u001b[0;31m---------------------------------------------------------------------------\u001b[0m",
      "\u001b[0;31mOSError\u001b[0m                                   Traceback (most recent call last)",
      "Input \u001b[0;32mIn [28]\u001b[0m, in \u001b[0;36m<module>\u001b[0;34m\u001b[0m\n\u001b[0;32m----> 1\u001b[0m media_info \u001b[38;5;241m=\u001b[39m \u001b[43mpymediainfo\u001b[49m\u001b[38;5;241;43m.\u001b[39;49m\u001b[43mMediaInfo\u001b[49m\u001b[38;5;241;43m.\u001b[39;49m\u001b[43mparse\u001b[49m\u001b[43m(\u001b[49m\u001b[43mvidfile\u001b[49m\u001b[43m)\u001b[49m\n\u001b[1;32m      2\u001b[0m media_info\n",
      "File \u001b[0;32m/opt/venv/lib/python3.9/site-packages/pymediainfo/__init__.py:431\u001b[0m, in \u001b[0;36mMediaInfo.parse\u001b[0;34m(cls, filename, library_file, cover_data, encoding_errors, parse_speed, full, legacy_stream_display, mediainfo_options, output)\u001b[0m\n\u001b[1;32m    352\u001b[0m \u001b[38;5;129m@classmethod\u001b[39m\n\u001b[1;32m    353\u001b[0m \u001b[38;5;28;01mdef\u001b[39;00m \u001b[38;5;21mparse\u001b[39m(\n\u001b[1;32m    354\u001b[0m     \u001b[38;5;66;03m# pylint: disable=too-many-statements\u001b[39;00m\n\u001b[0;32m   (...)\u001b[0m\n\u001b[1;32m    365\u001b[0m     output: Optional[\u001b[38;5;28mstr\u001b[39m] \u001b[38;5;241m=\u001b[39m \u001b[38;5;28;01mNone\u001b[39;00m,\n\u001b[1;32m    366\u001b[0m ) \u001b[38;5;241m-\u001b[39m\u001b[38;5;241m>\u001b[39m Union[\u001b[38;5;28mstr\u001b[39m, \u001b[38;5;124m\"\u001b[39m\u001b[38;5;124mMediaInfo\u001b[39m\u001b[38;5;124m\"\u001b[39m]:\n\u001b[1;32m    367\u001b[0m     \u001b[38;5;124;03m\"\"\"\u001b[39;00m\n\u001b[1;32m    368\u001b[0m \u001b[38;5;124;03m    Analyze a media file using libmediainfo.\u001b[39;00m\n\u001b[1;32m    369\u001b[0m \n\u001b[0;32m   (...)\u001b[0m\n\u001b[1;32m    429\u001b[0m \n\u001b[1;32m    430\u001b[0m \u001b[38;5;124;03m    \"\"\"\u001b[39;00m\n\u001b[0;32m--> 431\u001b[0m     lib, handle, lib_version_str, lib_version \u001b[38;5;241m=\u001b[39m \u001b[38;5;28;43mcls\u001b[39;49m\u001b[38;5;241;43m.\u001b[39;49m\u001b[43m_get_library\u001b[49m\u001b[43m(\u001b[49m\u001b[43mlibrary_file\u001b[49m\u001b[43m)\u001b[49m\n\u001b[1;32m    432\u001b[0m     \u001b[38;5;66;03m# The XML option was renamed starting with version 17.10\u001b[39;00m\n\u001b[1;32m    433\u001b[0m     \u001b[38;5;28;01mif\u001b[39;00m lib_version \u001b[38;5;241m>\u001b[39m\u001b[38;5;241m=\u001b[39m (\u001b[38;5;241m17\u001b[39m, \u001b[38;5;241m10\u001b[39m):\n",
      "File \u001b[0;32m/opt/venv/lib/python3.9/site-packages/pymediainfo/__init__.py:329\u001b[0m, in \u001b[0;36mMediaInfo._get_library\u001b[0;34m(cls, library_file)\u001b[0m\n\u001b[1;32m    327\u001b[0m     \u001b[38;5;28;01mexcept\u001b[39;00m \u001b[38;5;167;01mOSError\u001b[39;00m \u001b[38;5;28;01mas\u001b[39;00m exc:\n\u001b[1;32m    328\u001b[0m         exceptions\u001b[38;5;241m.\u001b[39mappend(\u001b[38;5;28mstr\u001b[39m(exc))\n\u001b[0;32m--> 329\u001b[0m \u001b[38;5;28;01mraise\u001b[39;00m \u001b[38;5;167;01mOSError\u001b[39;00m(\n\u001b[1;32m    330\u001b[0m     \u001b[38;5;124m\"\u001b[39m\u001b[38;5;124mFailed to load library from \u001b[39m\u001b[38;5;132;01m{}\u001b[39;00m\u001b[38;5;124m - \u001b[39m\u001b[38;5;132;01m{}\u001b[39;00m\u001b[38;5;124m\"\u001b[39m\u001b[38;5;241m.\u001b[39mformat(\n\u001b[1;32m    331\u001b[0m         \u001b[38;5;124m\"\u001b[39m\u001b[38;5;124m, \u001b[39m\u001b[38;5;124m\"\u001b[39m\u001b[38;5;241m.\u001b[39mjoin(library_paths), \u001b[38;5;124m\"\u001b[39m\u001b[38;5;124m, \u001b[39m\u001b[38;5;124m\"\u001b[39m\u001b[38;5;241m.\u001b[39mjoin(exceptions)\n\u001b[1;32m    332\u001b[0m     )\n\u001b[1;32m    333\u001b[0m )\n",
      "\u001b[0;31mOSError\u001b[0m: Failed to load library from libmediainfo.so.0 - libmediainfo.so.0: cannot open shared object file: No such file or directory"
     ]
    }
   ],
   "source": [
    "media_info = pymediainfo.MediaInfo.parse(vidfile)\n",
    "media_info"
   ]
  },
  {
   "cell_type": "markdown",
   "id": "c920c1ec-185a-497f-afac-20b8210bdea4",
   "metadata": {},
   "source": [
    "https://stackoverflow.com/questions/21355316/getting-metadata-for-mov-video"
   ]
  }
 ],
 "metadata": {
  "kernelspec": {
   "display_name": "Python 3 (ipykernel)",
   "language": "python",
   "name": "python3"
  },
  "language_info": {
   "codemirror_mode": {
    "name": "ipython",
    "version": 3
   },
   "file_extension": ".py",
   "mimetype": "text/x-python",
   "name": "python",
   "nbconvert_exporter": "python",
   "pygments_lexer": "ipython3",
   "version": "3.9.9"
  }
 },
 "nbformat": 4,
 "nbformat_minor": 5
}
