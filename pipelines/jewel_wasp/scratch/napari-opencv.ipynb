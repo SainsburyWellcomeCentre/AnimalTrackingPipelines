{
 "cells": [
  {
   "cell_type": "code",
   "execution_count": 1,
   "id": "46d9607e-dbcb-4af8-87df-4908632bcbbb",
   "metadata": {},
   "outputs": [],
   "source": [
    "%gui qt5"
   ]
  },
  {
   "cell_type": "code",
   "execution_count": 91,
   "id": "4d1751d3-ad50-4845-a7eb-3526aafd42a3",
   "metadata": {},
   "outputs": [
    {
     "name": "stdout",
     "output_type": "stream",
     "text": [
      "Requirement already satisfied: imageio in c:\\users\\nickdg\\anaconda3\\envs\\napari\\lib\\site-packages (2.15.0)\n",
      "Collecting imageio-ffmpeg\n",
      "  Downloading imageio_ffmpeg-0.4.5-py3-none-win_amd64.whl (22.6 MB)\n",
      "Requirement already satisfied: numpy in c:\\users\\nickdg\\anaconda3\\envs\\napari\\lib\\site-packages (from imageio) (1.22.2)\n",
      "Requirement already satisfied: pillow>=8.3.2 in c:\\users\\nickdg\\anaconda3\\envs\\napari\\lib\\site-packages (from imageio) (9.0.1)\n",
      "Installing collected packages: imageio-ffmpeg\n",
      "Successfully installed imageio-ffmpeg-0.4.5\n"
     ]
    }
   ],
   "source": [
    "!pip install imageio imageio-ffmpeg"
   ]
  },
  {
   "cell_type": "code",
   "execution_count": 7,
   "id": "4de528a0-4f5f-4dce-bb7c-80ffa716eb0e",
   "metadata": {},
   "outputs": [],
   "source": [
    "import napari\n",
    "from skimage import data\n",
    "from pathlib import Path\n",
    "from typing import Dict, List, Union, Tuple\n",
    "import numpy as np\n",
    "import cv2 as cv\n",
    "import dask.arr\n"
   ]
  },
  {
   "cell_type": "code",
   "execution_count": 8,
   "id": "171010a2-12a6-47ad-bd60-e8602572bd07",
   "metadata": {},
   "outputs": [
    {
     "data": {
      "text/plain": [
       "WindowsPath('C:/Data/Zoo_Jwasp_test/jwasp0.avi')"
      ]
     },
     "execution_count": 8,
     "metadata": {},
     "output_type": "execute_result"
    }
   ],
   "source": [
    "rawdir = Path(r\"C:\\Data\\Zoo_Jwasp_test\")\n",
    "vidpaths = list(rawdir.glob(\"j*.avi\"))\n",
    "vidpath = vidpaths[0]\n",
    "vidpath"
   ]
  },
  {
   "cell_type": "code",
   "execution_count": 9,
   "id": "b500377b-f20b-4312-8cdb-398a797a2bd9",
   "metadata": {},
   "outputs": [
    {
     "ename": "TypeError",
     "evalue": "",
     "output_type": "error",
     "traceback": [
      "\u001b[1;31m---------------------------------------------------------------------------\u001b[0m",
      "\u001b[1;31mTypeError\u001b[0m                                 Traceback (most recent call last)",
      "\u001b[1;32m~\\AppData\\Local\\Temp/ipykernel_12704/419413586.py\u001b[0m in \u001b[0;36m<module>\u001b[1;34m\u001b[0m\n\u001b[0;32m     63\u001b[0m \u001b[1;33m\u001b[0m\u001b[0m\n\u001b[0;32m     64\u001b[0m \u001b[0mvid\u001b[0m \u001b[1;33m=\u001b[0m \u001b[0mVideo\u001b[0m\u001b[1;33m.\u001b[0m\u001b[0mfrom_file\u001b[0m\u001b[1;33m(\u001b[0m\u001b[0mvidpath\u001b[0m\u001b[1;33m)\u001b[0m\u001b[1;33m\u001b[0m\u001b[1;33m\u001b[0m\u001b[0m\n\u001b[1;32m---> 65\u001b[1;33m \u001b[0mvid\u001b[0m\u001b[1;33m[\u001b[0m\u001b[1;36m40\u001b[0m\u001b[1;33m:\u001b[0m\u001b[1;36m42\u001b[0m\u001b[1;33m]\u001b[0m\u001b[1;33m\u001b[0m\u001b[1;33m\u001b[0m\u001b[0m\n\u001b[0m",
      "\u001b[1;32m~\\AppData\\Local\\Temp/ipykernel_12704/419413586.py\u001b[0m in \u001b[0;36m__getitem__\u001b[1;34m(self, item)\u001b[0m\n\u001b[0;32m     35\u001b[0m             \u001b[1;32mreturn\u001b[0m \u001b[0mself\u001b[0m\u001b[1;33m.\u001b[0m\u001b[0mget_frame\u001b[0m\u001b[1;33m(\u001b[0m\u001b[0mitem\u001b[0m\u001b[1;33m)\u001b[0m\u001b[1;33m\u001b[0m\u001b[1;33m\u001b[0m\u001b[0m\n\u001b[0;32m     36\u001b[0m         \u001b[1;32melse\u001b[0m\u001b[1;33m:\u001b[0m\u001b[1;33m\u001b[0m\u001b[1;33m\u001b[0m\u001b[0m\n\u001b[1;32m---> 37\u001b[1;33m             \u001b[1;32mraise\u001b[0m \u001b[0mTypeError\u001b[0m\u001b[1;33m(\u001b[0m\u001b[1;33m)\u001b[0m\u001b[1;33m\u001b[0m\u001b[1;33m\u001b[0m\u001b[0m\n\u001b[0m\u001b[0;32m     38\u001b[0m \u001b[1;33m\u001b[0m\u001b[0m\n\u001b[0;32m     39\u001b[0m \u001b[1;33m\u001b[0m\u001b[0m\n",
      "\u001b[1;31mTypeError\u001b[0m: "
     ]
    }
   ],
   "source": [
    "class Video:\n",
    "    def __init__(self, cap: cv.VideoCapture):\n",
    "        self.cap = cap\n",
    "        \n",
    "    @classmethod\n",
    "    def from_file(cls, fname: str):\n",
    "        return cls(cap=cv.VideoCapture(str(fname)))\n",
    "    \n",
    "    @property\n",
    "    def n_frames(self) -> int:\n",
    "        return int(self.cap.get(cv.CAP_PROP_FRAME_COUNT))\n",
    "    \n",
    "    def __len__(self) -> int:\n",
    "        return self.n_frames\n",
    "    \n",
    "    @property\n",
    "    def height(self) -> int:\n",
    "         return int(self.cap.get(cv.CAP_PROP_FRAME_HEIGHT))\n",
    "        \n",
    "    @property\n",
    "    def width(self) -> int:\n",
    "         return int(self.cap.get(cv.CAP_PROP_FRAME_WIDTH))\n",
    "        \n",
    "    @property\n",
    "    def n_channels(self) -> int:\n",
    "        return 3\n",
    "    \n",
    "    def get_frame(self, idx: int) -> np.ndarray:\n",
    "        self.cap.set(cv.CAP_PROP_POS_FRAMES, idx)\n",
    "        valid, frame = self.cap.read()\n",
    "        return frame\n",
    "    \n",
    "    def __getitem__(self, item: Union[int]) -> np.ndarray:\n",
    "        if isinstance(item, int):\n",
    "            return self.get_frame(item)\n",
    "        else:\n",
    "            raise TypeError()\n",
    "        \n",
    "        \n",
    "    # Numpy-like interface\n",
    "    @property\n",
    "    def shape(self) -> Tuple[int, int, int, int]:\n",
    "        shape = (self.n_frames, self.height, self.width, self.n_channels)\n",
    "        return shape\n",
    "    \n",
    "    @property\n",
    "    def dtype(self):\n",
    "        return np.uint8\n",
    "    \n",
    "    @property\n",
    "    def ndim(self):\n",
    "        return 4\n",
    "    \n",
    "    @property\n",
    "    def size(self):\n",
    "        return np.product(self.shape)\n",
    "    \n",
    "    def min(self):\n",
    "        return 0\n",
    "    \n",
    "    def max(self):\n",
    "        return 255\n",
    "\n",
    "vid = Video.from_file(vidpath)\n",
    "vid[40:42]"
   ]
  },
  {
   "cell_type": "code",
   "execution_count": null,
   "id": "5312ac99-071b-43ca-92a3-e0ba0c615440",
   "metadata": {},
   "outputs": [
    {
     "name": "stdout",
     "output_type": "stream",
     "text": [
      "> \u001b[1;32mc:\\users\\nickdg\\appdata\\local\\temp\\ipykernel_12704\\419413586.py\u001b[0m(37)\u001b[0;36m__getitem__\u001b[1;34m()\u001b[0m\n",
      "\n"
     ]
    },
    {
     "name": "stdin",
     "output_type": "stream",
     "text": [
      "ipdb>  l\n"
     ]
    },
    {
     "name": "stdout",
     "output_type": "stream",
     "text": [
      "\u001b[0;32m     32 \u001b[0m\u001b[1;33m\u001b[0m\u001b[0m\n",
      "\u001b[0;32m     33 \u001b[0m    \u001b[1;32mdef\u001b[0m \u001b[0m__getitem__\u001b[0m\u001b[1;33m(\u001b[0m\u001b[0mself\u001b[0m\u001b[1;33m,\u001b[0m \u001b[0mitem\u001b[0m\u001b[1;33m:\u001b[0m \u001b[0mUnion\u001b[0m\u001b[1;33m[\u001b[0m\u001b[0mint\u001b[0m\u001b[1;33m]\u001b[0m\u001b[1;33m)\u001b[0m \u001b[1;33m->\u001b[0m \u001b[0mnp\u001b[0m\u001b[1;33m.\u001b[0m\u001b[0mndarray\u001b[0m\u001b[1;33m:\u001b[0m\u001b[1;33m\u001b[0m\u001b[1;33m\u001b[0m\u001b[0m\n",
      "\u001b[0;32m     34 \u001b[0m        \u001b[1;32mif\u001b[0m \u001b[0misinstance\u001b[0m\u001b[1;33m(\u001b[0m\u001b[0mitem\u001b[0m\u001b[1;33m,\u001b[0m \u001b[0mint\u001b[0m\u001b[1;33m)\u001b[0m\u001b[1;33m:\u001b[0m\u001b[1;33m\u001b[0m\u001b[1;33m\u001b[0m\u001b[0m\n",
      "\u001b[0;32m     35 \u001b[0m            \u001b[1;32mreturn\u001b[0m \u001b[0mself\u001b[0m\u001b[1;33m.\u001b[0m\u001b[0mget_frame\u001b[0m\u001b[1;33m(\u001b[0m\u001b[0mitem\u001b[0m\u001b[1;33m)\u001b[0m\u001b[1;33m\u001b[0m\u001b[1;33m\u001b[0m\u001b[0m\n",
      "\u001b[0;32m     36 \u001b[0m        \u001b[1;32melse\u001b[0m\u001b[1;33m:\u001b[0m\u001b[1;33m\u001b[0m\u001b[1;33m\u001b[0m\u001b[0m\n",
      "\u001b[1;32m---> 37 \u001b[1;33m            \u001b[1;32mraise\u001b[0m \u001b[0mTypeError\u001b[0m\u001b[1;33m(\u001b[0m\u001b[1;33m)\u001b[0m\u001b[1;33m\u001b[0m\u001b[1;33m\u001b[0m\u001b[0m\n",
      "\u001b[0m\u001b[0;32m     38 \u001b[0m\u001b[1;33m\u001b[0m\u001b[0m\n",
      "\u001b[0;32m     39 \u001b[0m\u001b[1;33m\u001b[0m\u001b[0m\n",
      "\u001b[0;32m     40 \u001b[0m    \u001b[1;31m# Numpy-like interface\u001b[0m\u001b[1;33m\u001b[0m\u001b[1;33m\u001b[0m\u001b[1;33m\u001b[0m\u001b[0m\n",
      "\u001b[0;32m     41 \u001b[0m    \u001b[1;33m@\u001b[0m\u001b[0mproperty\u001b[0m\u001b[1;33m\u001b[0m\u001b[1;33m\u001b[0m\u001b[0m\n",
      "\u001b[0;32m     42 \u001b[0m    \u001b[1;32mdef\u001b[0m \u001b[0mshape\u001b[0m\u001b[1;33m(\u001b[0m\u001b[0mself\u001b[0m\u001b[1;33m)\u001b[0m \u001b[1;33m->\u001b[0m \u001b[0mTuple\u001b[0m\u001b[1;33m[\u001b[0m\u001b[0mint\u001b[0m\u001b[1;33m,\u001b[0m \u001b[0mint\u001b[0m\u001b[1;33m,\u001b[0m \u001b[0mint\u001b[0m\u001b[1;33m,\u001b[0m \u001b[0mint\u001b[0m\u001b[1;33m]\u001b[0m\u001b[1;33m:\u001b[0m\u001b[1;33m\u001b[0m\u001b[1;33m\u001b[0m\u001b[0m\n",
      "\n"
     ]
    },
    {
     "name": "stdin",
     "output_type": "stream",
     "text": [
      "ipdb>  item\n"
     ]
    },
    {
     "name": "stdout",
     "output_type": "stream",
     "text": [
      "slice(40, 42, None)\n"
     ]
    }
   ],
   "source": [
    "%debug"
   ]
  },
  {
   "cell_type": "markdown",
   "id": "172a3ad4-d700-43e9-8f70-aec08b70523e",
   "metadata": {},
   "source": [
    "## Utils"
   ]
  },
  {
   "cell_type": "code",
   "execution_count": 41,
   "id": "9d0cf468-acaf-4118-b0a6-7ea216edfe7e",
   "metadata": {},
   "outputs": [
    {
     "data": {
      "text/plain": [
       "{'CAP_PROP_BACKEND': 1900.0,\n",
       " 'CAP_PROP_BITRATE': 19683.0,\n",
       " 'CAP_PROP_CODEC_EXTRADATA_INDEX': 1.0,\n",
       " 'CAP_PROP_CODEC_PIXEL_FORMAT': 808596553.0,\n",
       " 'CAP_PROP_FOURCC': 877677894.0,\n",
       " 'CAP_PROP_FPS': 120.0,\n",
       " 'CAP_PROP_FRAME_COUNT': 6325.0,\n",
       " 'CAP_PROP_FRAME_HEIGHT': 1080.0,\n",
       " 'CAP_PROP_FRAME_WIDTH': 1440.0,\n",
       " 'CAP_PROP_HW_DEVICE': -1.0,\n",
       " 'CAP_PROP_ORIENTATION_AUTO': 1.0,\n",
       " 'CAP_PROP_POS_AVI_RATIO': 0.008333333333333333,\n",
       " 'CAP_PROP_POS_FRAMES': 2.0,\n",
       " 'CAP_PROP_POS_MSEC': 8.333333333333334,\n",
       " 'CAP_PROP_SAR_DEN': 1.0,\n",
       " 'CAP_PROP_SAR_NUM': 1.0,\n",
       " 'CAP_PROP_STREAM_OPEN_TIME_USEC': -9.223372036854776e+18}"
      ]
     },
     "execution_count": 41,
     "metadata": {},
     "output_type": "execute_result"
    }
   ],
   "source": [
    "def get_all_capture_values(cap: cv.VideoCapture) -> Dict[str, float]:\n",
    "    props = [prop for prop in dir(cv) if prop.startswith('CAP_PROP_')]\n",
    "    vals =  {prop: capture.get(getattr(cv, prop)) for prop in props if capture.get(getattr(cv, prop)) != 0}\n",
    "    return vals\n",
    "\n",
    "get_all_capture_values(capture)"
   ]
  },
  {
   "cell_type": "code",
   "execution_count": 64,
   "id": "d80d1d75-8dd1-4929-ace7-7509a5b6bdd3",
   "metadata": {},
   "outputs": [
    {
     "data": {
      "text/plain": [
       "{'CAP_PROP_BACKEND': 1900.0,\n",
       " 'CAP_PROP_BITRATE': 19683.0,\n",
       " 'CAP_PROP_CODEC_EXTRADATA_INDEX': 1.0,\n",
       " 'CAP_PROP_CODEC_PIXEL_FORMAT': 808596553.0,\n",
       " 'CAP_PROP_FOURCC': 877677894.0,\n",
       " 'CAP_PROP_FPS': 120.0,\n",
       " 'CAP_PROP_FRAME_COUNT': 6325.0,\n",
       " 'CAP_PROP_FRAME_HEIGHT': 1080.0,\n",
       " 'CAP_PROP_FRAME_WIDTH': 1440.0,\n",
       " 'CAP_PROP_HW_DEVICE': -1.0,\n",
       " 'CAP_PROP_ORIENTATION_AUTO': 1.0,\n",
       " 'CAP_PROP_POS_AVI_RATIO': 0.008333333333333333,\n",
       " 'CAP_PROP_POS_FRAMES': 2000.0,\n",
       " 'CAP_PROP_POS_MSEC': 16666.666666666668,\n",
       " 'CAP_PROP_SAR_DEN': 1.0,\n",
       " 'CAP_PROP_SAR_NUM': 1.0,\n",
       " 'CAP_PROP_STREAM_OPEN_TIME_USEC': -9.223372036854776e+18}"
      ]
     },
     "execution_count": 64,
     "metadata": {},
     "output_type": "execute_result"
    }
   ],
   "source": [
    "capture.set(cv.CAP_PROP_POS_FRAMES, 2000)\n",
    "get_all_capture_values(capture)"
   ]
  },
  {
   "cell_type": "code",
   "execution_count": 65,
   "id": "1b0ccbeb-fd0d-4994-82a9-c0f29e16a9b2",
   "metadata": {},
   "outputs": [
    {
     "data": {
      "text/plain": [
       "True"
      ]
     },
     "execution_count": 65,
     "metadata": {},
     "output_type": "execute_result"
    }
   ],
   "source": [
    "a, frame = capture.read()\n",
    "a"
   ]
  },
  {
   "cell_type": "code",
   "execution_count": 54,
   "id": "eba84c35-2393-4f7a-b9e4-4d6376efe99c",
   "metadata": {},
   "outputs": [
    {
     "data": {
      "text/plain": [
       "Viewer(axes=Axes(visible=False, labels=True, colored=True, dashed=False, arrows=True), camera=Camera(center=(0.0, 539.5, 719.5), zoom=0.5268981481481482, angles=(0.0, 0.0, 90.0), perspective=0.0, interactive=True), cursor=Cursor(position=(1.0, 1.0), scaled=True, size=1, style=<CursorStyle.STANDARD: 'standard'>), dims=Dims(ndim=2, ndisplay=2, last_used=0, range=((0.0, 1080.0, 1.0), (0.0, 1440.0, 1.0)), current_step=(540, 720), order=(0, 1), axis_labels=('0', '1')), grid=GridCanvas(stride=1, shape=(-1, -1), enabled=False), layers=[<Image layer 'frame' at 0x19bbbcaea30>], scale_bar=ScaleBar(visible=False, colored=False, ticks=True, position=<Position.BOTTOM_RIGHT: 'bottom_right'>, font_size=10.0, unit=None), text_overlay=TextOverlay(visible=False, color=array([0.5, 0.5, 0.5, 1. ]), font_size=10.0, position=<TextOverlayPosition.TOP_LEFT: 'top_left'>, text=''), overlays=Overlays(interaction_box=InteractionBox(points=None, show=False, show_handle=False, show_vertices=False, selection_box_drag=None, selection_box_final=None, transform_start=<napari.utils.transforms.transforms.Affine object at 0x0000019BBBC2CA90>, transform_drag=<napari.utils.transforms.transforms.Affine object at 0x0000019BBBC2CAF0>, transform_final=<napari.utils.transforms.transforms.Affine object at 0x0000019BBBC2CBB0>, transform=<napari.utils.transforms.transforms.Affine object at 0x0000019BBBC2CC10>, allow_new_selection=True, selected_vertex=None)), help='', status='Ready', tooltip=Tooltip(visible=False, text=''), theme='dark', title='napari', mouse_move_callbacks=[<function InteractionBoxMouseBindings.initialize_mouse_events.<locals>.mouse_move at 0x0000019BC4286820>], mouse_drag_callbacks=[<function InteractionBoxMouseBindings.initialize_mouse_events.<locals>.mouse_drag at 0x0000019BC4286430>], mouse_double_click_callbacks=[], mouse_wheel_callbacks=[<function dims_scroll at 0x0000019BBA702B80>], _persisted_mouse_event={}, _mouse_drag_gen={}, _mouse_wheel_gen={}, keymap={'Shift': <function InteractionBoxMouseBindings.initialize_key_events.<locals>.hold_to_lock_aspect_ratio at 0x0000019BC4286700>, 'Control-Shift-R': <function InteractionBoxMouseBindings._reset_active_layer_affine at 0x0000019BC41F8F70>, 'Control-Shift-A': <function InteractionBoxMouseBindings._transform_active_layer at 0x0000019BC41F8EE0>})"
      ]
     },
     "execution_count": 54,
     "metadata": {},
     "output_type": "execute_result"
    }
   ],
   "source": [
    "viewer = napari.view_image(frame)\n",
    "viewer"
   ]
  },
  {
   "cell_type": "code",
   "execution_count": 59,
   "id": "4dada7c6-a7dd-49f1-b7b6-8b23dda4e199",
   "metadata": {},
   "outputs": [
    {
     "data": {
      "text/plain": [
       "<Image layer 'frame' at 0x19bbbcaea30>"
      ]
     },
     "execution_count": 59,
     "metadata": {},
     "output_type": "execute_result"
    }
   ],
   "source": [
    "layer = viewer.layers[0]\n",
    "layer"
   ]
  },
  {
   "cell_type": "code",
   "execution_count": null,
   "id": "44bcfdd3-38ed-4b38-a76d-4863b7c41f41",
   "metadata": {},
   "outputs": [],
   "source": []
  },
  {
   "cell_type": "code",
   "execution_count": 66,
   "id": "fdab6665-7f6b-4d6e-a81d-5a4d4669e0e9",
   "metadata": {},
   "outputs": [],
   "source": [
    "layer.data = frame"
   ]
  },
  {
   "cell_type": "code",
   "execution_count": 51,
   "id": "b8770ab6-b814-4530-aa0d-86882ffe485e",
   "metadata": {},
   "outputs": [
    {
     "ename": "ModuleNotFoundError",
     "evalue": "No module named 'matplotlib'",
     "output_type": "error",
     "traceback": [
      "\u001b[1;31m---------------------------------------------------------------------------\u001b[0m",
      "\u001b[1;31mModuleNotFoundError\u001b[0m                       Traceback (most recent call last)",
      "\u001b[1;32m~\\AppData\\Local\\Temp/ipykernel_23608/2971697587.py\u001b[0m in \u001b[0;36m<module>\u001b[1;34m\u001b[0m\n\u001b[1;32m----> 1\u001b[1;33m \u001b[1;32mimport\u001b[0m \u001b[0mmatplotlib\u001b[0m\u001b[1;33m\u001b[0m\u001b[1;33m\u001b[0m\u001b[0m\n\u001b[0m",
      "\u001b[1;31mModuleNotFoundError\u001b[0m: No module named 'matplotlib'"
     ]
    }
   ],
   "source": [
    "import matplotlib"
   ]
  },
  {
   "cell_type": "code",
   "execution_count": 50,
   "id": "5b70523c-9bae-4448-a1f7-d6b0e468e1c9",
   "metadata": {},
   "outputs": [
    {
     "data": {
      "text/plain": [
       "(1080, 1440, 3)"
      ]
     },
     "execution_count": 50,
     "metadata": {},
     "output_type": "execute_result"
    }
   ],
   "source": [
    "b.shape"
   ]
  }
 ],
 "metadata": {
  "kernelspec": {
   "display_name": "napari",
   "language": "python",
   "name": "napari"
  },
  "language_info": {
   "codemirror_mode": {
    "name": "ipython",
    "version": 3
   },
   "file_extension": ".py",
   "mimetype": "text/x-python",
   "name": "python",
   "nbconvert_exporter": "python",
   "pygments_lexer": "ipython3",
   "version": "3.8.12"
  }
 },
 "nbformat": 4,
 "nbformat_minor": 5
}
